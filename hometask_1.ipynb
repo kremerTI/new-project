{
 "cells": [
  {
   "cell_type": "code",
   "execution_count": 20,
   "metadata": {},
   "outputs": [
    {
     "name": "stdout",
     "output_type": "stream",
     "text": [
      "enter your name: timur\n",
      "enter your age: 20\n",
      "timur, you will turn 100 in 2099.\n"
     ]
    }
   ],
   "source": [
    "name = input(\"enter your name: \")\n",
    "age = int(input(\"enter your age: \"))\n",
    "age = 2019 + 100 - age\n",
    "print(\"%s, you will turn 100 in %d.\" % (name, age))"
   ]
  },
  {
   "cell_type": "code",
   "execution_count": 21,
   "metadata": {},
   "outputs": [
    {
     "name": "stdout",
     "output_type": "stream",
     "text": [
      "enter a number: 27\n",
      "it's odd\n"
     ]
    }
   ],
   "source": [
    "num = int(input(\"enter a number: \"))\n",
    "if num % 2 == 0:\n",
    "    print(\"it's even\")\n",
    "else:\n",
    "    print(\"it's odd\")"
   ]
  },
  {
   "cell_type": "code",
   "execution_count": 15,
   "metadata": {},
   "outputs": [
    {
     "name": "stdout",
     "output_type": "stream",
     "text": [
      "what is your move, player1? - rock\n",
      "and yours, player2? - scissors\n",
      "player1 wins! congratulations! do you wish to start a new game? - yes\n",
      "what is your move, player1? - paper\n",
      "and yours, player2? - rock\n",
      "player1 wins! congratulations! do you wish to start a new game? - no\n"
     ]
    }
   ],
   "source": [
    "command = \"yes\"\n",
    "while command == \"yes\":\n",
    "    player1 = input(\"what is your move, player1? - \")\n",
    "    player2 = input(\"and yours, player2? - \")\n",
    "    if player1 == \"rock\":\n",
    "        if player2 == \"paper\":\n",
    "            command = input(\"player2 wins! congratulations! do you wish to start a new game? - \")\n",
    "        else:\n",
    "            command = input(\"player1 wins! congratulations! do you wish to start a new game? - \")\n",
    "    elif player1 == \"paper\":\n",
    "        if player2 == \"scissors\":\n",
    "            command = input(\"player2 wins! congratulations! do you wish to start a new game? - \")\n",
    "        else:\n",
    "            \n",
    "            command = input(\"player1 wins! congratulations! do you wish to start a new game? - \")\n",
    "    else:\n",
    "        if player2 == \"paper\":\n",
    "            command = input(\"player2 wins! congratulations! do you wish to start a new game? - \")\n",
    "        else:\n",
    "            command = input(\"player1 wins! congratulations! do you wish to start a new game? - \")"
   ]
  },
  {
   "cell_type": "code",
   "execution_count": 19,
   "metadata": {},
   "outputs": [
    {
     "name": "stdout",
     "output_type": "stream",
     "text": [
      "make a guess 2\n",
      "you guessed too low\n",
      "make a guess 3\n",
      "you guessed too low\n",
      "make a guess 4\n",
      "you're exactly right!\n"
     ]
    }
   ],
   "source": [
    "import random\n",
    "a = random.randint(1, 9)\n",
    "num = a - 1\n",
    "while num != a:\n",
    "    num = int(input(\"make a guess: \"))\n",
    "    if num > a: \n",
    "        print(\"you guessed too high :(\")\n",
    "    elif num < a:\n",
    "        print(\"you guessed too low :(\")\n",
    "    else:\n",
    "        print(\"you're exactly right!\")"
   ]
  },
  {
   "cell_type": "code",
   "execution_count": 43,
   "metadata": {},
   "outputs": [
    {
     "name": "stdout",
     "output_type": "stream",
     "text": [
      "[13, 2, 19, 5, 2, 10, 1, 9, 13, 10, 6, 5, 3]\n",
      "[18, 15, 10, 12, 19]\n",
      "[19, 10]\n"
     ]
    }
   ],
   "source": [
    "import random\n",
    "N, M = random.randint(5, 15), random.randint(5, 15)\n",
    "l1 = [random.randrange(20) for i in range(N)]\n",
    "print(l1)\n",
    "l2 = [random.randrange(20) for i in range(M)]\n",
    "print(l2)\n",
    "l3 = []\n",
    "for x in l1:\n",
    "    for y in l2:\n",
    "        if x == y and x not in l3:\n",
    "            l3.append(x)\n",
    "print(l3)"
   ]
  },
  {
   "cell_type": "code",
   "execution_count": 49,
   "metadata": {},
   "outputs": [
    {
     "name": "stdout",
     "output_type": "stream",
     "text": [
      "[2, 10, 9, 12, 16, 17, 1, 15, 10, 8, 10, 6, 4, 17, 0, 8]\n",
      "[2, 10, 9, 12, 16, 17, 1, 15, 8, 6, 4, 0]\n"
     ]
    }
   ],
   "source": [
    "import random\n",
    "N = random.randint(10, 20)\n",
    "list = [random.randrange(20) for i in range(N)]\n",
    "nlist = []\n",
    "print(list)\n",
    "for x in list:\n",
    "    if x not in nlist:\n",
    "        nlist.append(x)\n",
    "print(nlist) "
   ]
  },
  {
   "cell_type": "code",
   "execution_count": null,
   "metadata": {},
   "outputs": [],
   "source": []
  }
 ],
 "metadata": {
  "kernelspec": {
   "display_name": "Python 3",
   "language": "python",
   "name": "python3"
  },
  "language_info": {
   "codemirror_mode": {
    "name": "ipython",
    "version": 3
   },
   "file_extension": ".py",
   "mimetype": "text/x-python",
   "name": "python",
   "nbconvert_exporter": "python",
   "pygments_lexer": "ipython3",
   "version": "3.7.1"
  }
 },
 "nbformat": 4,
 "nbformat_minor": 2
}
