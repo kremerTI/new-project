{
 "cells": [
  {
   "cell_type": "code",
   "execution_count": 15,
   "metadata": {},
   "outputs": [
    {
     "name": "stdout",
     "output_type": "stream",
     "text": [
      "[[0.31401537 0.54776215 0.52162515]\n",
      " [0.17867841 0.64451046 0.47538683]\n",
      " [0.29451882 0.11954441 0.24911513]\n",
      " [0.08756961 0.40506172 0.67554488]\n",
      " [0.96127057 0.46957842 0.34442516]\n",
      " [0.05771486 0.21724326 0.71036336]\n",
      " [0.74037857 0.06635484 0.63445608]\n",
      " [0.88305861 0.195109   0.09362456]\n",
      " [0.79017661 0.03711512 0.2241542 ]\n",
      " [0.01126177 0.94432814 0.71637826]]\n"
     ]
    },
    {
     "data": {
      "text/plain": [
       "array([0.52162515, 0.47538683, 0.29451882, 0.40506172, 0.46957842,\n",
       "       0.71036336, 0.63445608, 0.195109  , 0.2241542 , 0.71637826])"
      ]
     },
     "execution_count": 15,
     "metadata": {},
     "output_type": "execute_result"
    }
   ],
   "source": [
    "import numpy as np\n",
    "\n",
    "a = np.random.random((10, 3))\n",
    "print(a)\n",
    "a[np.arange(10), np.argmin(np.absolute(a - 0.5), axis = 1)]"
   ]
  },
  {
   "cell_type": "code",
   "execution_count": 4,
   "metadata": {},
   "outputs": [
    {
     "name": "stdout",
     "output_type": "stream",
     "text": [
      "[[0.43736282 0.69327443 0.9765034  0.9447012  0.41035665 0.5476671 ]\n",
      " [0.54318398 0.78042537 0.77265028 0.54342246 0.89179062 0.42122314]\n",
      " [0.39590372 0.00370061 0.38276484 0.12342959 0.06008085 0.36243898]\n",
      " [0.48466568 0.19188552 0.02229789 0.48462807 0.64798377 0.62851376]\n",
      " [0.24888463 0.79763211 0.47804734 0.82008022 0.83893831 0.40896162]\n",
      " [0.90453422 0.36202326 0.97954391 0.39702814 0.72358877 0.70842821]]\n",
      "[4.00986559 3.95269584 1.32831859 2.45997469 3.59254423 4.07514653]\n"
     ]
    },
    {
     "data": {
      "text/plain": [
       "array([  16.11134277, 1068.12032568,   59.57148909,   19.93018597,\n",
       "         59.7951631 ,   11.24367613])"
      ]
     },
     "execution_count": 4,
     "metadata": {},
     "output_type": "execute_result"
    }
   ],
   "source": [
    "import numpy as np\n",
    "\n",
    "a = np.random.random((6, 6))\n",
    "print(a)\n",
    "print(a.sum(axis = 1))\n",
    "a.sum(axis = 1) / a[np.argmin(a, axis = 0), np.arange(6)]\n"
   ]
  },
  {
   "cell_type": "code",
   "execution_count": 123,
   "metadata": {},
   "outputs": [
    {
     "name": "stdout",
     "output_type": "stream",
     "text": [
      "[666   0  12   0  10   0   0 108   7   0 177   0]\n"
     ]
    },
    {
     "data": {
      "text/plain": [
       "177"
      ]
     },
     "execution_count": 123,
     "metadata": {},
     "output_type": "execute_result"
    }
   ],
   "source": [
    "import numpy as np \n",
    "\n",
    "x = np.array([666, 0, 12, 0, 10, 0, 0, 108, 7, 0, 177, 0])\n",
    "print(x)\n",
    "np.max(x[np.where(np.roll(x, 1) == 0)][1:])"
   ]
  },
  {
   "cell_type": "code",
   "execution_count": 173,
   "metadata": {},
   "outputs": [
    {
     "name": "stdout",
     "output_type": "stream",
     "text": [
      "[1. 1. 1. 1. 1. 1. 1. 1. 1. 1.]\n",
      "[1 1 1 1 0 3 0 0 1]\n"
     ]
    },
    {
     "data": {
      "text/plain": [
       "array([2., 2., 2., 2., 1., 4., 1., 1., 2., 1.])"
      ]
     },
     "execution_count": 173,
     "metadata": {},
     "output_type": "execute_result"
    }
   ],
   "source": [
    "import numpy as np\n",
    "\n",
    "x = np.ones(10) \n",
    "print(x)\n",
    "i = np.array([0, 1, 2, 3, 5, 5, 5, 8])\n",
    "print(np.bincount(i))\n",
    "np.pad(np.bincount(i), (0, len(x) - len(np.bincount(i))), 'constant') + x\n"
   ]
  },
  {
   "cell_type": "code",
   "execution_count": 154,
   "metadata": {},
   "outputs": [
    {
     "data": {
      "text/plain": [
       "{0: [0],\n",
       " 1: [1, 4],\n",
       " 2: [2, 5, 8],\n",
       " 3: [3, 6, 9, 12],\n",
       " 4: [7, 10, 13],\n",
       " 5: [11, 14],\n",
       " 6: [15]}"
      ]
     },
     "execution_count": 154,
     "metadata": {},
     "output_type": "execute_result"
    }
   ],
   "source": [
    "import numpy as np\n",
    "\n",
    "n = 4\n",
    "a = list(np.arange(n))\n",
    "b = list(n + np.arange(n - 1))\n",
    "\n",
    "dict(list((dict(zip(a, map(lambda x: list(x + (n - 1) * np.arange(x + 1)), a)))).items()) + list((dict(zip(b, map(lambda x: list((n-1) + ((x - n *(x // n)+1)) * n + (n-1) * np.arange(2*n - 1 - x)), b)))).items()))\n",
    "\n"
   ]
  },
  {
   "cell_type": "code",
   "execution_count": 31,
   "metadata": {},
   "outputs": [
    {
     "name": "stdout",
     "output_type": "stream",
     "text": [
      "(array([[3.77111925, 5.90130403],\n",
      "       [1.80133059, 4.02299172]]), 0.4704687987291571)\n",
      "(array([[1.80133059, 4.02299172],\n",
      "       [3.77111925, 5.90130403]]), 0.47046879872915703)\n"
     ]
    }
   ],
   "source": [
    "#в версии scipy 0.15.1, ссылка на документацию которой была в д/з, то ли как-то коряво было описано, что имеется в виду под \n",
    "#distortion, то ли в той версии scipy этот параметр вычислялся как-то совсем не так, как в последней. я для проверки своего\n",
    "#результата импортировал kmeans из scipy, и, видимо, импортировалась более новая версия библиотеки. \n",
    "#поэтому distortion я вычислял по правилу, описанному в более новой версии документации. надеюсь, это не критично\n",
    "\n",
    "import numpy as np \n",
    "from scipy.cluster.vq import kmeans #использую только для сравнения результатов\n",
    "\n",
    "def my_kmeans(A, k, s = 20, eps = 1e-05): \n",
    "    N = A.shape[0] #столько точек\n",
    "    m = A.shape[1] #такая размерность\n",
    "    centroids = A[:k, :] #выбираю изначально центроиды как первые k точек \n",
    "    A = np.expand_dims(A, axis = 1) #добавляю размерность посерединке\n",
    "    centroids1 = np.zeros((k, m)) #вспомогательная матрица для сдвига центроидов\n",
    "    i = 0\n",
    "    distortion = m * N * k * np.max(A) ** 2\n",
    "    distortion1 = 0 #вспомогательный параметр для вычисления изменения distortion\n",
    "    while distortion1 - distortion > eps or i < s:\n",
    "        distortion1 = distortion\n",
    "        centroids1 = centroids\n",
    "        dif = A - centroids\n",
    "        numcen = np.argmin((dif ** 2).sum(axis = 2), axis = 1) \n",
    "        C = np.zeros(N * m * k).reshape(N, k, m)\n",
    "        C[np.arange(N), numcen, :] = dif[np.arange(N),  numcen, :] / np.bincount(numcen)[numcen].reshape(N, 1)\n",
    "        centroids = centroids1 + np.squeeze(C.sum(axis = 0))        \n",
    "        #найдены центроиды. ищем distortion \n",
    "        numcen = np.argmin(((A - centroids) ** 2).sum(axis = 2), axis = 1)\n",
    "        C = np.zeros(N * m * k).reshape(N, k, m)\n",
    "        C[np.arange(N), numcen, :] = (A - centroids)[np.arange(N),  numcen, :]\n",
    "        distortion = np.sqrt((C ** 2).sum(axis = 2)).sum(axis = 1).mean() \n",
    "        \n",
    "        i = i + 1\n",
    "    return centroids, distortion\n",
    "           \n",
    "B = np.genfromtxt('dataset-for-hm_2.csv', delimiter=',', skip_header=1)\n",
    "B = B / np.std(B, axis = 0)\n",
    "                             \n",
    "print(my_kmeans(B, 2)) \n",
    "print(kmeans(B, 2))"
   ]
  }
 ],
 "metadata": {
  "kernelspec": {
   "display_name": "Python 3",
   "language": "python",
   "name": "python3"
  },
  "language_info": {
   "codemirror_mode": {
    "name": "ipython",
    "version": 3
   },
   "file_extension": ".py",
   "mimetype": "text/x-python",
   "name": "python",
   "nbconvert_exporter": "python",
   "pygments_lexer": "ipython3",
   "version": "3.7.1"
  }
 },
 "nbformat": 4,
 "nbformat_minor": 2
}
